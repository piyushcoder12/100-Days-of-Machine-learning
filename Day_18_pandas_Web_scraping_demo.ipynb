{
  "nbformat": 4,
  "nbformat_minor": 0,
  "metadata": {
    "colab": {
      "provenance": [],
      "authorship_tag": "ABX9TyM9Cksgixbz++kkqnRvwSM2",
      "include_colab_link": true
    },
    "kernelspec": {
      "name": "python3",
      "display_name": "Python 3"
    },
    "language_info": {
      "name": "python"
    }
  },
  "cells": [
    {
      "cell_type": "markdown",
      "metadata": {
        "id": "view-in-github",
        "colab_type": "text"
      },
      "source": [
        "<a href=\"https://colab.research.google.com/github/piyushcoder12/100-Days-of-Machine-learning/blob/main/Day_18_pandas_Web_scraping_demo.ipynb\" target=\"_parent\"><img src=\"https://colab.research.google.com/assets/colab-badge.svg\" alt=\"Open In Colab\"/></a>"
      ]
    },
    {
      "cell_type": "code",
      "source": [],
      "metadata": {
        "id": "IYrGEJr_2bAH"
      },
      "execution_count": null,
      "outputs": []
    },
    {
      "cell_type": "code",
      "execution_count": 1,
      "metadata": {
        "id": "0IfE2arCtUnw"
      },
      "outputs": [],
      "source": [
        "import pandas as pd\n",
        "import requests\n",
        "from bs4 import BeautifulSoup\n",
        "import numpy as np"
      ]
    },
    {
      "cell_type": "code",
      "source": [
        "headers = {'User-Agent':'Mozilla/5.0 (Windows NT 6.3; Win64; x64) AppleWebKit/537.36 (KHTML, like Gecko) Chrome/75.0.3770.142 Safari/537.36'}\n",
        "webpage=requests.get('https://www.ambitionbox.com/list-of-companies?page=1', headers= headers).text"
      ],
      "metadata": {
        "id": "SQHwZs-Mtlbj"
      },
      "execution_count": 37,
      "outputs": []
    },
    {
      "cell_type": "code",
      "source": [
        "soup = BeautifulSoup(webpage,'lxml') # web scripting libry"
      ],
      "metadata": {
        "id": "9Yp__npVrrgo"
      },
      "execution_count": 38,
      "outputs": []
    },
    {
      "cell_type": "code",
      "source": [
        "soup.find_all('h1')[0].text"
      ],
      "metadata": {
        "colab": {
          "base_uri": "https://localhost:8080/",
          "height": 35
        },
        "id": "T2XXjRTC4F4y",
        "outputId": "ce0582f7-be3f-40f0-a196-c3adbaf56e9f"
      },
      "execution_count": 39,
      "outputs": [
        {
          "output_type": "execute_result",
          "data": {
            "text/plain": [
              "'\\n\\t\\t\\t\\t\\t\\t\\tList of companies in India\\n\\t\\t\\t\\t\\t\\t'"
            ],
            "application/vnd.google.colaboratory.intrinsic+json": {
              "type": "string"
            }
          },
          "metadata": {},
          "execution_count": 39
        }
      ]
    },
    {
      "cell_type": "code",
      "source": [
        "soup.find_all('h2')"
      ],
      "metadata": {
        "colab": {
          "base_uri": "https://localhost:8080/"
        },
        "id": "IeBK8H6J5GBE",
        "outputId": "352814e1-4fcc-4e91-9593-57abfe63b653"
      },
      "execution_count": 40,
      "outputs": [
        {
          "output_type": "execute_result",
          "data": {
            "text/plain": [
              "[<h2 class=\"companyCardWrapper__companyName\" title=\"TCS\">\n",
              " \t\t\t\t\t\t\t\t\t\tTCS\n",
              " \t\t\t\t\t\t\t\t\t</h2>,\n",
              " <h2 class=\"companyCardWrapper__companyName\" title=\"Accenture\">\n",
              " \t\t\t\t\t\t\t\t\t\tAccenture\n",
              " \t\t\t\t\t\t\t\t\t</h2>,\n",
              " <h2 class=\"companyCardWrapper__companyName\" title=\"Cognizant\">\n",
              " \t\t\t\t\t\t\t\t\t\tCognizant\n",
              " \t\t\t\t\t\t\t\t\t</h2>,\n",
              " <h2 class=\"companyCardWrapper__companyName\" title=\"Wipro\">\n",
              " \t\t\t\t\t\t\t\t\t\tWipro\n",
              " \t\t\t\t\t\t\t\t\t</h2>,\n",
              " <h2 class=\"companyCardWrapper__companyName\" title=\"Capgemini\">\n",
              " \t\t\t\t\t\t\t\t\t\tCapgemini\n",
              " \t\t\t\t\t\t\t\t\t</h2>,\n",
              " <h2 class=\"companyCardWrapper__companyName\" title=\"HDFC Bank\">\n",
              " \t\t\t\t\t\t\t\t\t\tHDFC Bank\n",
              " \t\t\t\t\t\t\t\t\t</h2>,\n",
              " <h2 class=\"companyCardWrapper__companyName\" title=\"ICICI Bank\">\n",
              " \t\t\t\t\t\t\t\t\t\tICICI Bank\n",
              " \t\t\t\t\t\t\t\t\t</h2>,\n",
              " <h2 class=\"companyCardWrapper__companyName\" title=\"Infosys\">\n",
              " \t\t\t\t\t\t\t\t\t\tInfosys\n",
              " \t\t\t\t\t\t\t\t\t</h2>,\n",
              " <h2 class=\"companyCardWrapper__companyName\" title=\"HCLTech\">\n",
              " \t\t\t\t\t\t\t\t\t\tHCLTech\n",
              " \t\t\t\t\t\t\t\t\t</h2>,\n",
              " <h2 class=\"companyCardWrapper__companyName\" title=\"Tech Mahindra\">\n",
              " \t\t\t\t\t\t\t\t\t\tTech Mahindra\n",
              " \t\t\t\t\t\t\t\t\t</h2>,\n",
              " <h2 class=\"companyCardWrapper__companyName\" title=\"Genpact\">\n",
              " \t\t\t\t\t\t\t\t\t\tGenpact\n",
              " \t\t\t\t\t\t\t\t\t</h2>,\n",
              " <h2 class=\"companyCardWrapper__companyName\" title=\"Axis Bank\">\n",
              " \t\t\t\t\t\t\t\t\t\tAxis Bank\n",
              " \t\t\t\t\t\t\t\t\t</h2>,\n",
              " <h2 class=\"companyCardWrapper__companyName\" title=\"Teleperformance\">\n",
              " \t\t\t\t\t\t\t\t\t\tTeleperformance\n",
              " \t\t\t\t\t\t\t\t\t</h2>,\n",
              " <h2 class=\"companyCardWrapper__companyName\" title=\"Concentrix Corporation\">\n",
              " \t\t\t\t\t\t\t\t\t\tConcentrix Corporation\n",
              " \t\t\t\t\t\t\t\t\t</h2>,\n",
              " <h2 class=\"companyCardWrapper__companyName\" title=\"Jio\">\n",
              " \t\t\t\t\t\t\t\t\t\tJio\n",
              " \t\t\t\t\t\t\t\t\t</h2>,\n",
              " <h2 class=\"companyCardWrapper__companyName\" title=\"Amazon\">\n",
              " \t\t\t\t\t\t\t\t\t\tAmazon\n",
              " \t\t\t\t\t\t\t\t\t</h2>,\n",
              " <h2 class=\"companyCardWrapper__companyName\" title=\"IBM\">\n",
              " \t\t\t\t\t\t\t\t\t\tIBM\n",
              " \t\t\t\t\t\t\t\t\t</h2>,\n",
              " <h2 class=\"companyCardWrapper__companyName\" title=\"Reliance Retail\">\n",
              " \t\t\t\t\t\t\t\t\t\tReliance Retail\n",
              " \t\t\t\t\t\t\t\t\t</h2>,\n",
              " <h2 class=\"companyCardWrapper__companyName\" title=\"HDB Financial Services\">\n",
              " \t\t\t\t\t\t\t\t\t\tHDB Financial Services\n",
              " \t\t\t\t\t\t\t\t\t</h2>,\n",
              " <h2 class=\"companyCardWrapper__companyName\" title=\"Larsen &amp; Toubro Limited\">\n",
              " \t\t\t\t\t\t\t\t\t\tLarsen &amp; Toubro Limited\n",
              " \t\t\t\t\t\t\t\t\t</h2>,\n",
              " <h2 class=\"main-title body-medium\">\n",
              " \t\t\tCompanies by  Industry\n",
              " \t\t</h2>,\n",
              " <h2 class=\"main-title body-medium\">\n",
              " \t\t\tCompanies by  Locations\n",
              " \t\t</h2>,\n",
              " <h2 class=\"main-title body-medium\">\n",
              " \t\t\tCompanies by  Type\n",
              " \t\t</h2>,\n",
              " <h2 class=\"main-title body-medium\">\n",
              " \t\t\tCompanies by  Badges\n",
              " \t\t</h2>]"
            ]
          },
          "metadata": {},
          "execution_count": 40
        }
      ]
    },
    {
      "cell_type": "code",
      "source": [
        "for i in soup.find_all('h2'):\n",
        "  print(i.text.strip())"
      ],
      "metadata": {
        "colab": {
          "base_uri": "https://localhost:8080/"
        },
        "id": "0af3T2aO5RN3",
        "outputId": "0a263657-51b9-4b31-e0c5-e3c58dccd822"
      },
      "execution_count": 41,
      "outputs": [
        {
          "output_type": "stream",
          "name": "stdout",
          "text": [
            "TCS\n",
            "Accenture\n",
            "Cognizant\n",
            "Wipro\n",
            "Capgemini\n",
            "HDFC Bank\n",
            "ICICI Bank\n",
            "Infosys\n",
            "HCLTech\n",
            "Tech Mahindra\n",
            "Genpact\n",
            "Axis Bank\n",
            "Teleperformance\n",
            "Concentrix Corporation\n",
            "Jio\n",
            "Amazon\n",
            "IBM\n",
            "Reliance Retail\n",
            "HDB Financial Services\n",
            "Larsen & Toubro Limited\n",
            "Companies by  Industry\n",
            "Companies by  Locations\n",
            "Companies by  Type\n",
            "Companies by  Badges\n"
          ]
        }
      ]
    },
    {
      "cell_type": "code",
      "source": [
        "for i in soup.find_all('p'):\n",
        "  print(i.text.strip())"
      ],
      "metadata": {
        "colab": {
          "base_uri": "https://localhost:8080/"
        },
        "id": "davbx1L75vJF",
        "outputId": "49b688f3-a630-48b1-ec14-96dba6b7d88b"
      },
      "execution_count": 42,
      "outputs": [
        {
          "output_type": "stream",
          "name": "stdout",
          "text": [
            "AmbitionBox\n",
            "About Company\n",
            "Discover best places to work\n",
            "Compare & find best workplace\n",
            "Bring your workplace to life\n",
            "Highlight your company's perks\n",
            "Read reviews for 6L+ companies\n",
            "Rate your former or current company\n",
            "Discover salaries for 6L+ companies\n",
            "Calculate your take home salary\n",
            "Check your market value\n",
            "Help other jobseekers\n",
            "Read interviews for 40K+ companies\n",
            "Interviews questions for 1K+ colleges\n",
            "Contribute your interview questions\n",
            "AmbitionBox Employee Choice Awards - 3rd Edition\n",
            "2nd Edition\n",
            "1st Edition\n",
            "Discover Best Places to Work!\n",
            "10,14,267\n",
            "\t\t\t\t\t\t\tunique\n",
            "\t\t\t\t\t\t\tcompanies found\n",
            "Sort By:\n",
            "Popular\n",
            "Helping over\n",
            "\t\t\t\t\t\t\t\t\t1 Crore\n",
            "\t\t\t\t\t\t\t\t\tjob seekers every month in choosing their right fit company\n",
            "Reviews\n",
            "Salaries\n",
            "Interviews\n",
            "Users/Month\n",
            "About Company\n",
            "Made with ❤️ in India. Trademarks belong to their respective owners. All\n",
            "\t\t\t\t\trights reserved © 2024 Info Edge (India) Ltd.\n"
          ]
        }
      ]
    },
    {
      "cell_type": "code",
      "source": [
        "len(soup.find_all('p',class_= 'rating'))"
      ],
      "metadata": {
        "colab": {
          "base_uri": "https://localhost:8080/"
        },
        "id": "sEFhfswe6JV4",
        "outputId": "6df92db3-a792-4dc5-f16e-b4aa435ead02"
      },
      "execution_count": 43,
      "outputs": [
        {
          "output_type": "execute_result",
          "data": {
            "text/plain": [
              "0"
            ]
          },
          "metadata": {},
          "execution_count": 43
        }
      ]
    },
    {
      "cell_type": "code",
      "source": [
        "soup.find_all('h1')[0].text"
      ],
      "metadata": {
        "colab": {
          "base_uri": "https://localhost:8080/",
          "height": 35
        },
        "id": "QBGeebKfs0Za",
        "outputId": "2edb5831-5aa6-41ea-dcd5-0cb24d9a942a"
      },
      "execution_count": 29,
      "outputs": [
        {
          "output_type": "execute_result",
          "data": {
            "text/plain": [
              "'\\n\\t\\t\\t\\t\\t\\t\\tList of companies in India\\n\\t\\t\\t\\t\\t\\t'"
            ],
            "application/vnd.google.colaboratory.intrinsic+json": {
              "type": "string"
            }
          },
          "metadata": {},
          "execution_count": 29
        }
      ]
    },
    {
      "cell_type": "code",
      "source": [
        "for i in soup.find_all('h2'):\n",
        "  print(i.text.strip())"
      ],
      "metadata": {
        "id": "wAkJDjFts6XZ",
        "colab": {
          "base_uri": "https://localhost:8080/"
        },
        "outputId": "62b9402b-f845-4353-fd48-d368c09e84f8"
      },
      "execution_count": 34,
      "outputs": [
        {
          "output_type": "stream",
          "name": "stdout",
          "text": [
            "TCS\n",
            "Accenture\n",
            "Cognizant\n",
            "Wipro\n",
            "Capgemini\n",
            "HDFC Bank\n",
            "ICICI Bank\n",
            "Infosys\n",
            "HCLTech\n",
            "Tech Mahindra\n",
            "Genpact\n",
            "Axis Bank\n",
            "Teleperformance\n",
            "Concentrix Corporation\n",
            "Jio\n",
            "Amazon\n",
            "IBM\n",
            "Reliance Retail\n",
            "HDB Financial Services\n",
            "Larsen & Toubro Limited\n",
            "Companies by  Industry\n",
            "Companies by  Locations\n",
            "Companies by  Type\n",
            "Companies by  Badges\n"
          ]
        }
      ]
    },
    {
      "cell_type": "code",
      "source": [
        "len(soup.find_all('p',class_='rating'))"
      ],
      "metadata": {
        "colab": {
          "base_uri": "https://localhost:8080/"
        },
        "id": "Jwt7x__QwUmK",
        "outputId": "53466537-3699-4a1e-8e17-1fb754424e96"
      },
      "execution_count": 24,
      "outputs": [
        {
          "output_type": "execute_result",
          "data": {
            "text/plain": [
              "0"
            ]
          },
          "metadata": {},
          "execution_count": 24
        }
      ]
    },
    {
      "cell_type": "code",
      "source": [
        "len(soup.find_all('a' , class_='review-count'))"
      ],
      "metadata": {
        "colab": {
          "base_uri": "https://localhost:8080/"
        },
        "id": "7iqO4xh8wbu8",
        "outputId": "73f3b9c7-a16d-4db4-c0f2-c093f9ef2ad3"
      },
      "execution_count": 36,
      "outputs": [
        {
          "output_type": "execute_result",
          "data": {
            "text/plain": [
              "0"
            ]
          },
          "metadata": {},
          "execution_count": 36
        }
      ]
    },
    {
      "cell_type": "code",
      "source": [
        "company=soup.find_all('div',class_='company-content-wrapper')"
      ],
      "metadata": {
        "id": "vZ9TNm6Gwe0m"
      },
      "execution_count": 32,
      "outputs": []
    },
    {
      "cell_type": "code",
      "source": [
        "len(company)"
      ],
      "metadata": {
        "colab": {
          "base_uri": "https://localhost:8080/"
        },
        "id": "FykETKRIwizM",
        "outputId": "c539146c-c334-4442-c359-c0e2c0d88d98"
      },
      "execution_count": 35,
      "outputs": [
        {
          "output_type": "execute_result",
          "data": {
            "text/plain": [
              "0"
            ]
          },
          "metadata": {},
          "execution_count": 35
        }
      ]
    },
    {
      "cell_type": "code",
      "source": [
        "name=[]\n",
        "rating=[]\n",
        "reviews=[]\n",
        "ctype=[]\n",
        "hq=[]\n",
        "how_old=[]\n",
        "no_of_employee=[]\n",
        "\n",
        "for i in company:\n",
        "\n",
        "  name.append(i.find('h2').text.strip())\n",
        "  rating.append(i.find('p',class_='rating').text.strip())\n",
        "  reviews.append(i.find('a' , class_='review-count').text.strip())\n",
        "  ctype.append(i.find_all('p',class_='infoEntity')[0].text.strip())\n",
        "  hq.append(i.find_all('p',class_='infoEntity')[1].text.strip())\n",
        "  how_old.append(i.find_all('p',class_='infoEntity')[2].text.strip())\n",
        "  no_of_employee.append(i.find_all('p',class_='infoEntity')[3].text.strip())\n",
        "\n",
        "df=pd.DataFrame({'name':name,\n",
        "   'rating':rating,\n",
        "   'reviews':reviews,\n",
        "   'company_type':ctype,\n",
        "   'Head_Quarters':hq,\n",
        "   'Company_Age':how_old,\n",
        "   'No_of_Employee':no_of_employee,\n",
        "   })\n"
      ],
      "metadata": {
        "id": "f3rzOBDuwpKv"
      },
      "execution_count": 33,
      "outputs": []
    }
  ]
}